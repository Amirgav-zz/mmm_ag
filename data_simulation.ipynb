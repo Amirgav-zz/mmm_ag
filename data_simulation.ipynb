{
 "cells": [
  {
   "cell_type": "markdown",
   "metadata": {},
   "source": [
    "# Data Simulation"
   ]
  },
  {
   "cell_type": "markdown",
   "metadata": {},
   "source": [
    "### Features"
   ]
  },
  {
   "cell_type": "markdown",
   "metadata": {},
   "source": [
    "- date\n",
    "- demand_google searches\n",
    "- is_holiday \n",
    "- day_of_week\n",
    "- is_weekend\n",
    "- is_holiday\n",
    "- offer_type\n",
    "- social_spend\n",
    "- sem_spend\n",
    "- other_spend\n",
    "- brand_traffic\n",
    "- gross_sales\n"
   ]
  },
  {
   "cell_type": "markdown",
   "metadata": {},
   "source": [
    "### Features description"
   ]
  },
  {
   "cell_type": "markdown",
   "metadata": {},
   "source": [
    "- date\n",
    "- demand_google searches\n",
    "- is_holiday \n",
    "- day_of_week\n",
    "- is_weekend\n",
    "- is_holiday\n",
    "- offer_type\n",
    "- social_spend\n",
    "- sem_spend\n",
    "- other_spend\n",
    "- brand_traffic\n",
    "- gross_sales"
   ]
  },
  {
   "cell_type": "code",
   "execution_count": null,
   "metadata": {},
   "outputs": [],
   "source": []
  }
 ],
 "metadata": {
  "kernelspec": {
   "display_name": "Python 3",
   "language": "python",
   "name": "python3"
  },
  "language_info": {
   "codemirror_mode": {
    "name": "ipython",
    "version": 3
   },
   "file_extension": ".py",
   "mimetype": "text/x-python",
   "name": "python",
   "nbconvert_exporter": "python",
   "pygments_lexer": "ipython3",
   "version": "3.8.3"
  }
 },
 "nbformat": 4,
 "nbformat_minor": 4
}
